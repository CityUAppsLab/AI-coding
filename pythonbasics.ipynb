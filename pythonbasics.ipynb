{
  "nbformat": 4,
  "nbformat_minor": 0,
  "metadata": {
    "colab": {
      "name": "Test.ipynb",
      "version": "0.3.2",
      "provenance": []
    },
    "kernelspec": {
      "name": "python3",
      "display_name": "Python 3"
    },
    "accelerator": "GPU"
  },
  "cells": [
    {
      "metadata": {
        "id": "T2dTH6W3oEJI",
        "colab_type": "text"
      },
      "cell_type": "markdown",
      "source": [
        "**This prints Hello World:**"
      ]
    },
    {
      "metadata": {
        "id": "KW_KQD0ToJNb",
        "colab_type": "code",
        "colab": {
          "base_uri": "https://localhost:8080/",
          "height": 35
        },
        "outputId": "3135fbda-30cd-4d1a-be60-5dc6c75908bd"
      },
      "cell_type": "code",
      "source": [
        "print(\"Hello World\")"
      ],
      "execution_count": 1,
      "outputs": [
        {
          "output_type": "stream",
          "text": [
            "Hello World\n"
          ],
          "name": "stdout"
        }
      ]
    },
    {
      "metadata": {
        "id": "wplnCcdSHDG3",
        "colab_type": "text"
      },
      "cell_type": "markdown",
      "source": [
        "**If-Else Statement:**"
      ]
    },
    {
      "metadata": {
        "id": "jeNpvesKHFJZ",
        "colab_type": "code",
        "colab": {
          "base_uri": "https://localhost:8080/",
          "height": 52
        },
        "outputId": "58c66377-013d-473b-e646-5126c81c4397"
      },
      "cell_type": "code",
      "source": [
        "#Get the inputted birthday month of the user and turn it to an integer\n",
        "osys = input(\"What is the operating system of your phone? \")\n",
        "\n",
        "#Verification with if-else Statements\n",
        "if osys == \"Android\":\n",
        "  print(\"Yay Android!\")\n",
        "elif osys == \"iOS\":\n",
        "  print(\"Yay iOS!\")\n",
        "else:\n",
        "  print(\"You're not using an Android/iOS phone.\")"
      ],
      "execution_count": 2,
      "outputs": [
        {
          "output_type": "stream",
          "text": [
            "What is the operating system of your phone? iOS\n",
            "Yay iOS!\n"
          ],
          "name": "stdout"
        }
      ]
    },
    {
      "metadata": {
        "id": "5hz0btSVHGwN",
        "colab_type": "text"
      },
      "cell_type": "markdown",
      "source": [
        "**For loop:**"
      ]
    },
    {
      "metadata": {
        "id": "l_V7Mhr7HJE8",
        "colab_type": "code",
        "colab": {
          "base_uri": "https://localhost:8080/",
          "height": 70
        },
        "outputId": "2de9592d-9f15-480a-df2a-ec68d3f9ba05"
      },
      "cell_type": "code",
      "source": [
        "#Iteration with For loops\n",
        "for i in range(3):\n",
        "  print(\"Hi\")"
      ],
      "execution_count": 3,
      "outputs": [
        {
          "output_type": "stream",
          "text": [
            "Hi\n",
            "Hi\n",
            "Hi\n"
          ],
          "name": "stdout"
        }
      ]
    },
    {
      "metadata": {
        "id": "x4DbutcCHL7j",
        "colab_type": "text"
      },
      "cell_type": "markdown",
      "source": [
        "**While loop:**"
      ]
    },
    {
      "metadata": {
        "id": "ErpLyPvlHRvy",
        "colab_type": "code",
        "colab": {
          "base_uri": "https://localhost:8080/",
          "height": 87
        },
        "outputId": "51f45362-ffa0-4e6e-d28a-9e2b41f30d47"
      },
      "cell_type": "code",
      "source": [
        "#Iteration with While loops\n",
        "count = 0\n",
        "while count < 3:\n",
        "  count = count + 1\n",
        "  print(count)\n",
        "print(\"Final value of variable count:\", count)\n",
        "\n",
        "# while loop stops executing after count reaches 3, \n",
        "# and the condition becomes False"
      ],
      "execution_count": 4,
      "outputs": [
        {
          "output_type": "stream",
          "text": [
            "1\n",
            "2\n",
            "3\n",
            "Final value of variable count: 3\n"
          ],
          "name": "stdout"
        }
      ]
    },
    {
      "metadata": {
        "id": "iM5bSfrhQwld",
        "colab_type": "text"
      },
      "cell_type": "markdown",
      "source": [
        "**Type function:**"
      ]
    },
    {
      "metadata": {
        "id": "cimDEc0KQyP3",
        "colab_type": "code",
        "colab": {
          "base_uri": "https://localhost:8080/",
          "height": 35
        },
        "outputId": "e4167aa7-874d-4529-abdc-3cf275cd078a"
      },
      "cell_type": "code",
      "source": [
        "#Initialize a string variable called str_1\n",
        "str_1 = \"Hello\"\n",
        "\n",
        "#The type function returns the data type of str_1\n",
        "print(type(str_1))"
      ],
      "execution_count": 5,
      "outputs": [
        {
          "output_type": "stream",
          "text": [
            "<class 'str'>\n"
          ],
          "name": "stdout"
        }
      ]
    },
    {
      "metadata": {
        "id": "futXVRTpGu_D",
        "colab_type": "text"
      },
      "cell_type": "markdown",
      "source": [
        "**Len Function:**"
      ]
    },
    {
      "metadata": {
        "id": "-W_-Wa2soO5e",
        "colab_type": "code",
        "colab": {
          "base_uri": "https://localhost:8080/",
          "height": 87
        },
        "outputId": "f3f8fd8a-8aec-4f2a-cc00-3835dde1c609"
      },
      "cell_type": "code",
      "source": [
        "#Initialize 2 list variables called list_1, list_2\n",
        "list_1 = [\"H\", \"e\", \"l\", \"l\", \"o\"]\n",
        "list_2 = [\"Hello\"]\n",
        "\n",
        "#The len function returns the length of list_1, list_2\n",
        "print(len(list_1))\n",
        "print(\"\\n\") #skips a line\n",
        "print(len(list_2))"
      ],
      "execution_count": 6,
      "outputs": [
        {
          "output_type": "stream",
          "text": [
            "5\n",
            "\n",
            "\n",
            "1\n"
          ],
          "name": "stdout"
        }
      ]
    },
    {
      "metadata": {
        "id": "BQqURTQoR7w6",
        "colab_type": "text"
      },
      "cell_type": "markdown",
      "source": [
        "**Min & Max Function: **"
      ]
    },
    {
      "metadata": {
        "id": "G80Hhaf3R_jJ",
        "colab_type": "code",
        "colab": {
          "base_uri": "https://localhost:8080/",
          "height": 52
        },
        "outputId": "634d591a-4e4e-40c8-8aab-3ef62c59bf88"
      },
      "cell_type": "code",
      "source": [
        "#Initialize list variable called list_3\n",
        "list_3 = [1, 5, 2, 8, 13, 3]\n",
        "\n",
        "#Output the minimum and maximum values in list_3\n",
        "print(\"Min:\", min(list_3))\n",
        "print(\"Max:\", max(list_3))"
      ],
      "execution_count": 7,
      "outputs": [
        {
          "output_type": "stream",
          "text": [
            "Min: 1\n",
            "Max: 13\n"
          ],
          "name": "stdout"
        }
      ]
    },
    {
      "metadata": {
        "id": "77TJYIlzSRIy",
        "colab_type": "text"
      },
      "cell_type": "markdown",
      "source": [
        "**Enumerate Function:**"
      ]
    },
    {
      "metadata": {
        "id": "7xBGaltR7Svy",
        "colab_type": "code",
        "colab": {
          "base_uri": "https://localhost:8080/",
          "height": 35
        },
        "outputId": "7dd295da-50c7-4f33-934c-9f9da27f7e93"
      },
      "cell_type": "code",
      "source": [
        "fruit = [\"apple\", \"orange\", \"banana\", \"grapes\", \"mango\"]\n",
        "list(enumerate(fruit))"
      ],
      "execution_count": 8,
      "outputs": [
        {
          "output_type": "execute_result",
          "data": {
            "text/plain": [
              "[(0, 'apple'), (1, 'orange'), (2, 'banana'), (3, 'grapes'), (4, 'mango')]"
            ]
          },
          "metadata": {
            "tags": []
          },
          "execution_count": 8
        }
      ]
    },
    {
      "metadata": {
        "id": "Dq2r1ykIHdsc",
        "colab_type": "code",
        "colab": {
          "base_uri": "https://localhost:8080/",
          "height": 105
        },
        "outputId": "60f39f12-e19f-400b-c61d-554a410e1d3f"
      },
      "cell_type": "code",
      "source": [
        "for index, value in enumerate(fruit, 0):\n",
        "  # The int indicates the starting index\n",
        "  print(index, value)"
      ],
      "execution_count": 9,
      "outputs": [
        {
          "output_type": "stream",
          "text": [
            "0 apple\n",
            "1 orange\n",
            "2 banana\n",
            "3 grapes\n",
            "4 mango\n"
          ],
          "name": "stdout"
        }
      ]
    },
    {
      "metadata": {
        "id": "EEv5hoZ_Z5ia",
        "colab_type": "text"
      },
      "cell_type": "markdown",
      "source": [
        "**Working with Numpy arrays:**"
      ]
    },
    {
      "metadata": {
        "id": "HAR0GUYC-AG5",
        "colab_type": "code",
        "colab": {
          "base_uri": "https://localhost:8080/",
          "height": 175
        },
        "outputId": "7fc1b7fb-a68c-4d5f-8db4-d2e2abf1fcca"
      },
      "cell_type": "code",
      "source": [
        "#import numpy library to be indexed by the name \"np\"\n",
        "import numpy as np\n",
        "\n",
        "#Declare a matrix with the shape (rank) (2, 2)\n",
        "x = np.array([[2, 2], [3, 4]])\n",
        "print(\"ndarray x:\", x)\n",
        "print(\"Shape (rank) of x: \" + str(x.shape))\n",
        "print(\"\\n\") # << skips a line\n",
        "\n",
        "#Declare a matrix with the shape (3, 1)\n",
        "y = np.array([[1], [2], [3]])\n",
        "print(y)\n",
        "print(y.shape)"
      ],
      "execution_count": 10,
      "outputs": [
        {
          "output_type": "stream",
          "text": [
            "ndarray x: [[2 2]\n",
            " [3 4]]\n",
            "Shape (rank) of x: (2, 2)\n",
            "\n",
            "\n",
            "[[1]\n",
            " [2]\n",
            " [3]]\n",
            "(3, 1)\n"
          ],
          "name": "stdout"
        }
      ]
    },
    {
      "metadata": {
        "id": "RkJL8z13b91V",
        "colab_type": "text"
      },
      "cell_type": "markdown",
      "source": [
        "**Challenge 0**"
      ]
    },
    {
      "metadata": {
        "id": "hfgYGF9PbYMR",
        "colab_type": "code",
        "colab": {
          "base_uri": "https://localhost:8080/",
          "height": 55
        },
        "outputId": "a9ddf6c3-268c-4551-9226-d0cf4e398dfe"
      },
      "cell_type": "code",
      "source": [
        "'''\n",
        "\n",
        "Challenge 0:\n",
        "\n",
        "- Declare an ndarray of shape (2, 4)\n",
        "- Name it \"foo\"\n",
        "- Print out the array's shape to verify\n",
        "\n",
        "'''"
      ],
      "execution_count": 11,
      "outputs": [
        {
          "output_type": "execute_result",
          "data": {
            "text/plain": [
              "'\\n\\nChallenge 0:\\n\\n- Declare an ndarray of shape (2, 4)\\n- Name it \"foo\"\\n- Print out the array\\'s shape to verify\\n\\n'"
            ]
          },
          "metadata": {
            "tags": []
          },
          "execution_count": 11
        }
      ]
    },
    {
      "metadata": {
        "id": "zVwf_vwCcTT0",
        "colab_type": "code",
        "colab": {
          "base_uri": "https://localhost:8080/",
          "height": 70
        },
        "outputId": "9667edd6-7f7e-41cb-cf4f-71ab78c659e3"
      },
      "cell_type": "code",
      "source": [
        "foo = np.array([[1, 2, 3, 4], [5, 6, 7, 8]])\n",
        "print(foo)\n",
        "print(foo.shape)"
      ],
      "execution_count": 12,
      "outputs": [
        {
          "output_type": "stream",
          "text": [
            "[[1 2 3 4]\n",
            " [5 6 7 8]]\n",
            "(2, 4)\n"
          ],
          "name": "stdout"
        }
      ]
    },
    {
      "metadata": {
        "id": "GB0Lmzsbcs-5",
        "colab_type": "text"
      },
      "cell_type": "markdown",
      "source": [
        "**Array Arithmetic: (+/-)**"
      ]
    },
    {
      "metadata": {
        "id": "xGJlSAovciPJ",
        "colab_type": "code",
        "colab": {
          "base_uri": "https://localhost:8080/",
          "height": 211
        },
        "outputId": "84b50ddb-26cc-4cad-c8a9-61a0603455c0"
      },
      "cell_type": "code",
      "source": [
        "#Declare a second ndarray of shape (1, 1)\n",
        "#Foo was declared earlier with the shape (2, 4)\n",
        "bar = np.array([[1]])\n",
        "print(bar.shape)\n",
        "print(\"\\n\")\n",
        "\n",
        "#Add the 2 matrices together\n",
        "foobar = np.add(foo, bar)\n",
        "print(foobar)\n",
        "print(\"\\n\")\n",
        "\n",
        "#Subtract the 2 matrices\n",
        "print(\"foo minus bar:\", np.subtract(foo, bar))\n",
        "print(\"bar minus foo:\", np.subtract(bar, foo))"
      ],
      "execution_count": 13,
      "outputs": [
        {
          "output_type": "stream",
          "text": [
            "(1, 1)\n",
            "\n",
            "\n",
            "[[2 3 4 5]\n",
            " [6 7 8 9]]\n",
            "\n",
            "\n",
            "foo minus bar: [[0 1 2 3]\n",
            " [4 5 6 7]]\n",
            "bar minus foo: [[ 0 -1 -2 -3]\n",
            " [-4 -5 -6 -7]]\n"
          ],
          "name": "stdout"
        }
      ]
    },
    {
      "metadata": {
        "id": "wkXNSNUNzHxU",
        "colab_type": "text"
      },
      "cell_type": "markdown",
      "source": [
        "**Array Arithmetic (x/÷)**"
      ]
    },
    {
      "metadata": {
        "id": "FzmvKS-3xpAK",
        "colab_type": "code",
        "colab": {
          "base_uri": "https://localhost:8080/",
          "height": 87
        },
        "outputId": "f19c0b62-f1d8-4296-d5e1-b1c586d1524e"
      },
      "cell_type": "code",
      "source": [
        "#Redefine the shape of bar from (1, 1) to (2, 4)\n",
        "bar = np.array([[3, 1, 4, 5], [9, 2, 6, 5]])\n",
        "print(np.multiply(foo, bar))\n",
        "print(\"\\n\")"
      ],
      "execution_count": 19,
      "outputs": [
        {
          "output_type": "stream",
          "text": [
            "[[ 3  2 12 20]\n",
            " [45 12 42 40]]\n",
            "\n",
            "\n"
          ],
          "name": "stdout"
        }
      ]
    },
    {
      "metadata": {
        "id": "pe5To1cNfui_",
        "colab_type": "text"
      },
      "cell_type": "markdown",
      "source": [
        "**Matplotlib**"
      ]
    },
    {
      "metadata": {
        "id": "VuEB8lRmePZn",
        "colab_type": "code",
        "colab": {
          "base_uri": "https://localhost:8080/",
          "height": 383
        },
        "outputId": "0dc04f46-978d-466a-c107-2afb45ee3e7f"
      },
      "cell_type": "code",
      "source": [
        "import matplotlib.pyplot as plt\n",
        "from mpl_toolkits.mplot3d import Axes3D\n",
        "fig = plt.figure()\n",
        "a = fig.add_subplot(111, projection = \"3d\")\n",
        "\n",
        "x = np.array([i for i in range(-10, 0)])\n",
        "y = np.array([i for i in range(10, 20)])\n",
        "# print(x)\n",
        "# print(y)\n",
        "a.plot(x, y)"
      ],
      "execution_count": 32,
      "outputs": [
        {
          "output_type": "stream",
          "text": [
            "[-10  -9  -8  -7  -6  -5  -4  -3  -2  -1]\n",
            "[10 11 12 13 14 15 16 17 18 19]\n"
          ],
          "name": "stdout"
        },
        {
          "output_type": "execute_result",
          "data": {
            "text/plain": [
              "[<mpl_toolkits.mplot3d.art3d.Line3D at 0x7fe157e64898>]"
            ]
          },
          "metadata": {
            "tags": []
          },
          "execution_count": 32
        },
        {
          "output_type": "display_data",
          "data": {
            "image/png": "[encoded data removed]",
            "text/plain": [
              "<matplotlib.figure.Figure at 0x7fe157f1e2b0>"
            ]
          },
          "metadata": {
            "tags": []
          }
        }
      ]
    },
    {
      "metadata": {
        "id": "bqcGBIkrfpa5",
        "colab_type": "code",
        "colab": {}
      },
      "cell_type": "code",
      "source": [
        ""
      ],
      "execution_count": 0,
      "outputs": []
    }
  ]
}