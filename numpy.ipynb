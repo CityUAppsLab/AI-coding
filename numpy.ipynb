{
  "nbformat": 4,
  "nbformat_minor": 0,
  "metadata": {
    "colab": {
      "name": "numpy.ipynb",
      "version": "0.3.2",
      "provenance": [],
      "collapsed_sections": []
    },
    "kernelspec": {
      "name": "python3",
      "display_name": "Python 3"
    },
    "accelerator": "GPU"
  },
  "cells": [
    {
      "metadata": {
        "id": "UTtzsbgZzPwc",
        "colab_type": "text"
      },
      "cell_type": "markdown",
      "source": [
        "**import numpy library**"
      ]
    },
    {
      "metadata": {
        "id": "f9qCJi3ZOmCN",
        "colab_type": "code",
        "colab": {}
      },
      "cell_type": "code",
      "source": [
        "import numpy as np"
      ],
      "execution_count": 0,
      "outputs": []
    },
    {
      "metadata": {
        "id": "hEmPy4VhzVGz",
        "colab_type": "text"
      },
      "cell_type": "markdown",
      "source": [
        "**Define a vector (rank 1 tensor) with numpy array**"
      ]
    },
    {
      "metadata": {
        "id": "rxKCvkDySxc_",
        "colab_type": "code",
        "colab": {
          "base_uri": "https://localhost:8080/",
          "height": 50
        },
        "outputId": "c0024c2c-2cdf-45ae-b3c2-e0afcc90b06e"
      },
      "cell_type": "code",
      "source": [
        "vector1 = np.array([5, 1, 9, 4])\n",
        "print(vector1)\n",
        "print(\"Shape of v1: \", vector1.shape)"
      ],
      "execution_count": 9,
      "outputs": [
        {
          "output_type": "stream",
          "text": [
            "[5 1 9 4]\n",
            "Shape of v1:  (4,)\n"
          ],
          "name": "stdout"
        }
      ]
    },
    {
      "metadata": {
        "id": "22lgALzzz49Y",
        "colab_type": "text"
      },
      "cell_type": "markdown",
      "source": [
        "**Define a matrix (rank 2 tensor) with numpy array**"
      ]
    },
    {
      "metadata": {
        "id": "ANaBM1LCS_Ao",
        "colab_type": "code",
        "colab": {
          "base_uri": "https://localhost:8080/",
          "height": 84
        },
        "outputId": "80ae190c-7bac-4b6b-fb90-f84a781f76f5"
      },
      "cell_type": "code",
      "source": [
        "matrix1 = np.array([[2,1,5,7],[4,8,0,6],[4,2,1,3]])\n",
        "print(matrix1)\n",
        "print(\"shape:\", matrix1.shape)"
      ],
      "execution_count": 10,
      "outputs": [
        {
          "output_type": "stream",
          "text": [
            "[[2 1 5 7]\n",
            " [4 8 0 6]\n",
            " [4 2 1 3]]\n",
            "shape: (3, 4)\n"
          ],
          "name": "stdout"
        }
      ]
    },
    {
      "metadata": {
        "id": "UghHW8fs1ij1",
        "colab_type": "text"
      },
      "cell_type": "markdown",
      "source": [
        "**Reorder matrix1 into a rank 3 tensor**"
      ]
    },
    {
      "metadata": {
        "id": "sffa2bhGTv3W",
        "colab_type": "code",
        "colab": {
          "base_uri": "https://localhost:8080/",
          "height": 34
        },
        "outputId": "18d4f34b-4d83-498e-8bd1-a6ba42bd8f7c"
      },
      "cell_type": "code",
      "source": [
        "#reshape the matrix\n",
        "tensor1 = matrix1.reshape((3,2,2))\n",
        "print(\"shape:\",tensor1.shape)"
      ],
      "execution_count": 22,
      "outputs": [
        {
          "output_type": "stream",
          "text": [
            "shape: (3, 2, 2)\n"
          ],
          "name": "stdout"
        }
      ]
    },
    {
      "metadata": {
        "id": "wq09rUWrVAdT",
        "colab_type": "code",
        "colab": {
          "base_uri": "https://localhost:8080/",
          "height": 151
        },
        "outputId": "64c5139e-5071-421d-f9d5-c01c65c33a7c"
      },
      "cell_type": "code",
      "source": [
        "#display the tensor\n",
        "tensor1"
      ],
      "execution_count": 21,
      "outputs": [
        {
          "output_type": "execute_result",
          "data": {
            "text/plain": [
              "array([[[2, 1],\n",
              "        [5, 7]],\n",
              "\n",
              "       [[4, 8],\n",
              "        [0, 6]],\n",
              "\n",
              "       [[4, 2],\n",
              "        [1, 3]]])"
            ]
          },
          "metadata": {
            "tags": []
          },
          "execution_count": 21
        }
      ]
    },
    {
      "metadata": {
        "id": "uPXliXsz2SBm",
        "colab_type": "text"
      },
      "cell_type": "markdown",
      "source": [
        "**Combining two numpy arrays**"
      ]
    },
    {
      "metadata": {
        "id": "DciNZVPq2vWd",
        "colab_type": "text"
      },
      "cell_type": "markdown",
      "source": [
        "1. vstack"
      ]
    },
    {
      "metadata": {
        "id": "5fcgHGUeVGQU",
        "colab_type": "code",
        "colab": {
          "base_uri": "https://localhost:8080/",
          "height": 118
        },
        "outputId": "d693e092-d1fd-4f69-95ac-7e403e355878"
      },
      "cell_type": "code",
      "source": [
        "arr1 = np.array([[4,7,3]])\n",
        "arr2 = np.array([[1,0,5]])\n",
        "\n",
        "a = np.vstack([arr1,arr2])\n",
        "\n",
        "#or equivalently, \n",
        "b = np.concatenate([arr1, arr2], axis = 0)\n",
        "\n",
        "print(a)\n",
        "print('\\n')\n",
        "print(b)"
      ],
      "execution_count": 27,
      "outputs": [
        {
          "output_type": "stream",
          "text": [
            "[[4 7 3]\n",
            " [1 0 5]]\n",
            "\n",
            "\n",
            "[[4 7 3]\n",
            " [1 0 5]]\n"
          ],
          "name": "stdout"
        }
      ]
    },
    {
      "metadata": {
        "id": "1a5-4H5o28zg",
        "colab_type": "text"
      },
      "cell_type": "markdown",
      "source": [
        "2. hstack"
      ]
    },
    {
      "metadata": {
        "id": "mO4LFbjVa28q",
        "colab_type": "code",
        "colab": {
          "base_uri": "https://localhost:8080/",
          "height": 84
        },
        "outputId": "a2598b75-66d3-4019-caf3-76ce23218f5c"
      },
      "cell_type": "code",
      "source": [
        "a = np.hstack([arr1,arr2])\n",
        "\n",
        "#or equivalently, \n",
        "b = np.concatenate([arr1, arr2], axis = 1)\n",
        "\n",
        "print(a)\n",
        "print('\\n')\n",
        "print(b)"
      ],
      "execution_count": 29,
      "outputs": [
        {
          "output_type": "stream",
          "text": [
            "[[4 7 3 1 0 5]]\n",
            "\n",
            "\n",
            "[[4 7 3 1 0 5]]\n"
          ],
          "name": "stdout"
        }
      ]
    },
    {
      "metadata": {
        "id": "uei3vk1f3YMb",
        "colab_type": "text"
      },
      "cell_type": "markdown",
      "source": [
        "**The wrong way to concatenate**"
      ]
    },
    {
      "metadata": {
        "id": "UQhCx6lu3T9i",
        "colab_type": "code",
        "colab": {
          "base_uri": "https://localhost:8080/",
          "height": 195
        },
        "outputId": "844d73bb-53ed-4dd1-f180-0a8baf3e30d7"
      },
      "cell_type": "code",
      "source": [
        "#These arrays have no axis 1\n",
        "arr1 = np.array([4,7,3])\n",
        "arr2 = np.array([1,0,5])\n",
        "\n",
        "#This is right\n",
        "a = np.hstack([arr1,arr2])\n",
        "\n",
        "#This is wrong\n",
        "b = np.concatenate([arr1, arr2], axis = 1)\n"
      ],
      "execution_count": 34,
      "outputs": [
        {
          "output_type": "error",
          "ename": "AxisError",
          "evalue": "ignored",
          "traceback": [
            "\u001b[0;31m---------------------------------------------------------------------------\u001b[0m",
            "\u001b[0;31mAxisError\u001b[0m                                 Traceback (most recent call last)",
            "\u001b[0;32m<ipython-input-34-7330cfaef9d4>\u001b[0m in \u001b[0;36m<module>\u001b[0;34m()\u001b[0m\n\u001b[1;32m      7\u001b[0m \u001b[0;31m#This is wrong\u001b[0m\u001b[0;34m\u001b[0m\u001b[0;34m\u001b[0m\u001b[0m\n\u001b[1;32m      8\u001b[0m \u001b[0;34m\u001b[0m\u001b[0m\n\u001b[0;32m----> 9\u001b[0;31m \u001b[0mb\u001b[0m \u001b[0;34m=\u001b[0m \u001b[0mnp\u001b[0m\u001b[0;34m.\u001b[0m\u001b[0mconcatenate\u001b[0m\u001b[0;34m(\u001b[0m\u001b[0;34m[\u001b[0m\u001b[0marr1\u001b[0m\u001b[0;34m,\u001b[0m \u001b[0marr2\u001b[0m\u001b[0;34m]\u001b[0m\u001b[0;34m,\u001b[0m \u001b[0maxis\u001b[0m \u001b[0;34m=\u001b[0m \u001b[0;36m1\u001b[0m\u001b[0;34m)\u001b[0m\u001b[0;34m\u001b[0m\u001b[0m\n\u001b[0m",
            "\u001b[0;31mAxisError\u001b[0m: axis 1 is out of bounds for array of dimension 1"
          ]
        }
      ]
    },
    {
      "metadata": {
        "id": "QnDQ38F94f6v",
        "colab_type": "text"
      },
      "cell_type": "markdown",
      "source": [
        "**Eclidean norm (magnitude) of a vector**"
      ]
    },
    {
      "metadata": {
        "id": "S7l7NsPBYRCF",
        "colab_type": "code",
        "colab": {
          "base_uri": "https://localhost:8080/",
          "height": 50
        },
        "outputId": "7447401e-d8ea-4a07-bab6-f4d840c157b7"
      },
      "cell_type": "code",
      "source": [
        "arr1_norm = np.linalg.norm(arr1)\n",
        "print(arr1)\n",
        "print(\"arr1 norm:\",arr1_norm)"
      ],
      "execution_count": 38,
      "outputs": [
        {
          "output_type": "stream",
          "text": [
            "[4 7 3]\n",
            "arr1 norm: 8.602325267042627\n"
          ],
          "name": "stdout"
        }
      ]
    },
    {
      "metadata": {
        "id": "-41p3IGrfPYT",
        "colab_type": "code",
        "colab": {
          "base_uri": "https://localhost:8080/",
          "height": 34
        },
        "outputId": "47910a80-2d77-4b9a-ae35-780893984533"
      },
      "cell_type": "code",
      "source": [
        "#verifying the result\n",
        "np.sqrt(4**2+7**2+3**2)"
      ],
      "execution_count": 21,
      "outputs": [
        {
          "output_type": "execute_result",
          "data": {
            "text/plain": [
              "8.602325267042627"
            ]
          },
          "metadata": {
            "tags": []
          },
          "execution_count": 21
        }
      ]
    },
    {
      "metadata": {
        "id": "hw7pPOVL5R9p",
        "colab_type": "text"
      },
      "cell_type": "markdown",
      "source": [
        "**Dot product**"
      ]
    },
    {
      "metadata": {
        "id": "RPxiSCQB5dVj",
        "colab_type": "code",
        "colab": {
          "base_uri": "https://localhost:8080/",
          "height": 50
        },
        "outputId": "d3c4bf83-c6a3-4c49-cf9d-99acc47f7bd6"
      },
      "cell_type": "code",
      "source": [
        "print(\"arr1:\", arr1)\n",
        "print(\"arr2:\", arr2)"
      ],
      "execution_count": 43,
      "outputs": [
        {
          "output_type": "stream",
          "text": [
            "arr1: [4 7 3]\n",
            "arr2: [1 0 5]\n"
          ],
          "name": "stdout"
        }
      ]
    },
    {
      "metadata": {
        "id": "ZCFFJy1li1D9",
        "colab_type": "code",
        "colab": {
          "base_uri": "https://localhost:8080/",
          "height": 34
        },
        "outputId": "ab01d9a6-a0a1-42c2-f0cd-1030c41a9296"
      },
      "cell_type": "code",
      "source": [
        "#dot product\n",
        "np.dot(arr1,arr2)"
      ],
      "execution_count": 44,
      "outputs": [
        {
          "output_type": "execute_result",
          "data": {
            "text/plain": [
              "19"
            ]
          },
          "metadata": {
            "tags": []
          },
          "execution_count": 44
        }
      ]
    },
    {
      "metadata": {
        "id": "WEz96NeO5mzI",
        "colab_type": "code",
        "colab": {
          "base_uri": "https://localhost:8080/",
          "height": 34
        },
        "outputId": "085aa155-b66a-4fb6-a515-293bdd715e22"
      },
      "cell_type": "code",
      "source": [
        "#verifying the result\n",
        "4*1 + 7*0 + 3*5"
      ],
      "execution_count": 45,
      "outputs": [
        {
          "output_type": "execute_result",
          "data": {
            "text/plain": [
              "19"
            ]
          },
          "metadata": {
            "tags": []
          },
          "execution_count": 45
        }
      ]
    },
    {
      "metadata": {
        "id": "E8m2Grxk58Pf",
        "colab_type": "text"
      },
      "cell_type": "markdown",
      "source": [
        "**Cosine similarity**"
      ]
    },
    {
      "metadata": {
        "id": "ymJ-oymJi63d",
        "colab_type": "code",
        "colab": {}
      },
      "cell_type": "code",
      "source": [
        "arr1_norm = np.linalg.norm(arr1)\n",
        "arr2_norm = np.linalg.norm(arr2)"
      ],
      "execution_count": 0,
      "outputs": []
    },
    {
      "metadata": {
        "id": "e0cEHqvujL6D",
        "colab_type": "code",
        "colab": {
          "base_uri": "https://localhost:8080/",
          "height": 34
        },
        "outputId": "cfe293ba-b84f-43e7-ec88-1312ecd3a62d"
      },
      "cell_type": "code",
      "source": [
        "#cosine theta\n",
        "cos = np.dot(arr1,arr2)/(arr1_norm * arr2_norm)\n",
        "print(cos)"
      ],
      "execution_count": 48,
      "outputs": [
        {
          "output_type": "stream",
          "text": [
            "0.4331627149581756\n"
          ],
          "name": "stdout"
        }
      ]
    },
    {
      "metadata": {
        "id": "5V4imGpS6L9U",
        "colab_type": "code",
        "colab": {
          "base_uri": "https://localhost:8080/",
          "height": 34
        },
        "outputId": "35ab864c-1e17-4da7-f699-734d5200adf1"
      },
      "cell_type": "code",
      "source": [
        "#Get the theta in radian\n",
        "#theta = cos^-1(cos)\n",
        "theta = np.arccos(cos)\n",
        "print(theta)"
      ],
      "execution_count": 51,
      "outputs": [
        {
          "output_type": "stream",
          "text": [
            "1.1227974986577833\n"
          ],
          "name": "stdout"
        }
      ]
    },
    {
      "metadata": {
        "id": "soRk5dcojv6m",
        "colab_type": "code",
        "colab": {
          "base_uri": "https://localhost:8080/",
          "height": 34
        },
        "outputId": "fd271e7c-52bb-45be-9494-bee78c2fce17"
      },
      "cell_type": "code",
      "source": [
        "#convert theta from radian to degree\n",
        "theta*180/np.pi"
      ],
      "execution_count": 52,
      "outputs": [
        {
          "output_type": "execute_result",
          "data": {
            "text/plain": [
              "64.33155792093669"
            ]
          },
          "metadata": {
            "tags": []
          },
          "execution_count": 52
        }
      ]
    },
    {
      "metadata": {
        "id": "k2TI7qnA64On",
        "colab_type": "text"
      },
      "cell_type": "markdown",
      "source": [
        "**Multiply 2x2 and 2x4 matrices**"
      ]
    },
    {
      "metadata": {
        "id": "Pr5VHaLJjwu9",
        "colab_type": "code",
        "colab": {
          "base_uri": "https://localhost:8080/",
          "height": 50
        },
        "outputId": "bfe00790-9895-4e7e-f238-4cad5f45b3aa"
      },
      "cell_type": "code",
      "source": [
        "#matrix multiplication\n",
        "A = np.array([[1,2],[3,4]])\n",
        "B = np.array([[4,5,6,7],[8,9,10,11]])\n",
        "np.matmul(A,B)"
      ],
      "execution_count": 56,
      "outputs": [
        {
          "output_type": "execute_result",
          "data": {
            "text/plain": [
              "array([[20, 23, 26, 29],\n",
              "       [44, 51, 58, 65]])"
            ]
          },
          "metadata": {
            "tags": []
          },
          "execution_count": 56
        }
      ]
    },
    {
      "metadata": {
        "id": "n0uBbqDM7G6n",
        "colab_type": "text"
      },
      "cell_type": "markdown",
      "source": [
        "**Matrix transpose**"
      ]
    },
    {
      "metadata": {
        "id": "qEGMAMpgnRmn",
        "colab_type": "code",
        "colab": {
          "base_uri": "https://localhost:8080/",
          "height": 51
        },
        "outputId": "0002191b-b371-4fd6-be06-61ec1990dabe"
      },
      "cell_type": "code",
      "source": [
        "B"
      ],
      "execution_count": 30,
      "outputs": [
        {
          "output_type": "execute_result",
          "data": {
            "text/plain": [
              "array([[ 4,  5,  6,  7],\n",
              "       [ 8,  9, 10, 11]])"
            ]
          },
          "metadata": {
            "tags": []
          },
          "execution_count": 30
        }
      ]
    },
    {
      "metadata": {
        "id": "otNrCjgFnUFG",
        "colab_type": "code",
        "colab": {
          "base_uri": "https://localhost:8080/",
          "height": 85
        },
        "outputId": "cdb8aa28-202f-4e71-cc43-06e16edb3a5c"
      },
      "cell_type": "code",
      "source": [
        "B.T"
      ],
      "execution_count": 31,
      "outputs": [
        {
          "output_type": "execute_result",
          "data": {
            "text/plain": [
              "array([[ 4,  8],\n",
              "       [ 5,  9],\n",
              "       [ 6, 10],\n",
              "       [ 7, 11]])"
            ]
          },
          "metadata": {
            "tags": []
          },
          "execution_count": 31
        }
      ]
    },
    {
      "metadata": {
        "id": "1OuWpNYDpGyd",
        "colab_type": "code",
        "colab": {
          "base_uri": "https://localhost:8080/",
          "height": 34
        },
        "outputId": "13d602af-7d5a-4bea-ea2f-4dbeb9da916d"
      },
      "cell_type": "code",
      "source": [
        "B.shape"
      ],
      "execution_count": 32,
      "outputs": [
        {
          "output_type": "execute_result",
          "data": {
            "text/plain": [
              "(2, 4)"
            ]
          },
          "metadata": {
            "tags": []
          },
          "execution_count": 32
        }
      ]
    },
    {
      "metadata": {
        "id": "MMItep0ipOU7",
        "colab_type": "code",
        "colab": {
          "base_uri": "https://localhost:8080/",
          "height": 34
        },
        "outputId": "7758ac09-6cc0-462d-8059-7727de65bdb5"
      },
      "cell_type": "code",
      "source": [
        "B.T.shape"
      ],
      "execution_count": 33,
      "outputs": [
        {
          "output_type": "execute_result",
          "data": {
            "text/plain": [
              "(4, 2)"
            ]
          },
          "metadata": {
            "tags": []
          },
          "execution_count": 33
        }
      ]
    },
    {
      "metadata": {
        "id": "5y8Hv8ux7Lbd",
        "colab_type": "text"
      },
      "cell_type": "markdown",
      "source": [
        "**Matrix inverse**"
      ]
    },
    {
      "metadata": {
        "id": "kA7inX0gqKyv",
        "colab_type": "code",
        "colab": {}
      },
      "cell_type": "code",
      "source": [
        "A = np.array([[1,2],[3,4]])"
      ],
      "execution_count": 0,
      "outputs": []
    },
    {
      "metadata": {
        "id": "qXq5gebTqP_P",
        "colab_type": "code",
        "colab": {
          "base_uri": "https://localhost:8080/",
          "height": 51
        },
        "outputId": "cfcfbd7c-7628-4194-a3e1-f0641102dea3"
      },
      "cell_type": "code",
      "source": [
        "A"
      ],
      "execution_count": 35,
      "outputs": [
        {
          "output_type": "execute_result",
          "data": {
            "text/plain": [
              "array([[1, 2],\n",
              "       [3, 4]])"
            ]
          },
          "metadata": {
            "tags": []
          },
          "execution_count": 35
        }
      ]
    },
    {
      "metadata": {
        "id": "L8YxtCGqpP-K",
        "colab_type": "code",
        "colab": {
          "base_uri": "https://localhost:8080/",
          "height": 50
        },
        "outputId": "269ac86e-4581-4c75-8ec1-4a2a3e378579"
      },
      "cell_type": "code",
      "source": [
        "#inverse of A\n",
        "inv_A = np.linalg.inv(A)\n",
        "print(inv_A)"
      ],
      "execution_count": 59,
      "outputs": [
        {
          "output_type": "stream",
          "text": [
            "[[-2.   1. ]\n",
            " [ 1.5 -0.5]]\n"
          ],
          "name": "stdout"
        }
      ]
    },
    {
      "metadata": {
        "id": "QgaxtylfqiIM",
        "colab_type": "code",
        "colab": {
          "base_uri": "https://localhost:8080/",
          "height": 50
        },
        "outputId": "72e2590d-c70f-44f6-e89f-d42d7254dbbe"
      },
      "cell_type": "code",
      "source": [
        "#(A A-1) should return an identity matrix I\n",
        "#non-zero off-diagonal elements due to machine's round-off error\n",
        "np.matmul(A,inv_A)"
      ],
      "execution_count": 60,
      "outputs": [
        {
          "output_type": "execute_result",
          "data": {
            "text/plain": [
              "array([[1.0000000e+00, 0.0000000e+00],\n",
              "       [8.8817842e-16, 1.0000000e+00]])"
            ]
          },
          "metadata": {
            "tags": []
          },
          "execution_count": 60
        }
      ]
    }
  ]
}